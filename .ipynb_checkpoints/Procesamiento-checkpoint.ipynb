{
 "cells": [
  {
   "cell_type": "markdown",
   "metadata": {},
   "source": [
    "Procesamiento de imágenes"
   ]
  },
  {
   "cell_type": "code",
   "execution_count": null,
   "metadata": {},
   "outputs": [],
   "source": []
  },
  {
   "cell_type": "code",
   "execution_count": 24,
   "metadata": {},
   "outputs": [],
   "source": [
    "import numpy as np\n",
    "import pandas as pd\n",
    "import matplotlib.pyplot as plt\n",
    "%matplotlib inline\n",
    "from skimage import io\n",
    "from PIL import Image\n",
    "import os\n",
    "from matplotlib import image\n",
    "import cv2"
   ]
  },
  {
   "cell_type": "markdown",
   "metadata": {},
   "source": [
    "Cargar Imágenes"
   ]
  },
  {
   "cell_type": "code",
   "execution_count": 14,
   "metadata": {},
   "outputs": [],
   "source": [
    "def leer(dir):\n",
    "    loaded_img=list()\n",
    "    for file in os.listdir(dir):\n",
    "        img=pd.read_csv(dir+\"\\\\\"+file,header=none)\n",
    "        img=img.to_numpy()\n",
    "        loaded_img.append(img)\n",
    "        print('> loaded %s %s' % (file, img.shape))\n",
    "    return loaded_img"
   ]
  },
  {
   "cell_type": "code",
   "execution_count": 15,
   "metadata": {},
   "outputs": [
    {
     "name": "stdout",
     "output_type": "stream",
     "text": [
      "> loaded 04be43ab919b6b22d950d3b59834f4a1 (1).jpg (300, 400, 3)\n",
      "> loaded 04be43ab919b6b22d950d3b59834f4a1 (2).jpg (300, 400, 3)\n",
      "> loaded 04be43ab919b6b22d950d3b59834f4a1.jpg (300, 400, 3)\n",
      "> loaded 053111_1344_traceelemen3.png (205, 274, 3)\n",
      "> loaded 053111_1401_skinconditi9.png (269, 276, 3)\n",
      "> loaded 060f0530-e0e9-407d-88c8-7c3e806059ba-medium16x9_GladwinCountyanimal.jpg (364, 648, 3)\n",
      "> loaded 09-07-11Calf.gif (159, 205, 4)\n",
      "> loaded 0b36076259d99722b2ec4b0cc663b971.jpg (989, 1600, 3)\n",
      "> loaded 1.jpg (768, 960, 3)\n",
      "> loaded 10264372-6743315-Calves_and_their_mothers_eat_a_small_amount_of_hay_and_appear_vi-a-4_1551193281957.jpg (505, 633, 3)\n",
      "> loaded 10514703_730498246986060_5976539923316036790_n.jpg (720, 960, 3)\n",
      "> loaded 10936182-3x2-xlarge.jpg (575, 862, 3)\n",
      "> loaded 10936268-3x2-xlarge.jpg (575, 862, 3)\n",
      "> loaded 10Illustration_10-3_Cobalt_in_Cattle_Wasting_Disease.jpg (235, 329, 3)\n",
      "> loaded 11-Figure1-1.png (352, 838, 3)\n",
      "> loaded 11777982-3x4-large.jpg (793, 595, 3)\n",
      "> loaded 1200x0.jpg (660, 1200, 3)\n",
      "> loaded 15055137-attending-sick-cow-in-rivera-department-of-huila-colombia.jpg (863, 1300, 3)\n",
      "> loaded 1592267697975 (1).jpg (399, 710, 3)\n",
      "> loaded 1592267697975.jpg (799, 1420, 3)\n",
      "> loaded 1998087.jpg (184, 271, 3)\n",
      "> loaded 1warts2-2905wk-17.jpg (191, 264, 3)\n",
      "> loaded 21beef-inline1-650.jpg (441, 650, 3)\n",
      "> loaded 28india-superJumbo.jpg (1363, 2048, 3)\n",
      "> loaded 3-s2.0-B9780081005965211384-f21138-02-9780081005965 (1).jpg (282, 376, 3)\n",
      "> loaded 300x200-calf-rug.jpg (200, 300, 3)\n",
      "> loaded 3028.400x300.jpeg (254, 349, 3)\n",
      "> loaded 3393179531_a84968d945.jpg (388, 480, 3)\n",
      "> loaded 3525741186_b8cd8659a8_b.jpg (682, 1024, 3)\n",
      "> loaded 3bcbf0b9-7075-4013-869f-cc6aef379e48-IMG_0074.jpeg (676, 1200, 3)\n",
      "> loaded 500_F_94428663_B2muG0aRhCYw8WfAKVVPCyYMeD82ynuz (1).jpg (334, 500, 3)\n",
      "> loaded 52125899-cows-in-thailand-skinny-sick-cows-close-up-eye (1).jpg (866, 1300, 3)\n",
      "> loaded 53dd295e786d6.image.jpg (300, 400, 3)\n",
      "> loaded 5453592-16x9-700x394.jpg (394, 700, 3)\n",
      "> loaded 5453592-3x2-940x627.jpg (627, 940, 3)\n",
      "> loaded 5a9dd5cb1a8a6.image.jpg (474, 523, 3)\n",
      "> loaded 9111258-sick-animal-with-signs-of-severe-malnutrition.jpg (866, 1300, 3)\n",
      "> loaded a-thin-cow-in-the-fields-near-the-phnom-chhnork-caves-near-kampot-in-cambodia-2ARATH3.jpg (953, 1300, 3)\n",
      "> loaded amber_1596109318.jpg (827, 1170, 3)\n",
      "> loaded attending-sick-cow-in-rivera-department-of-huila-colombia-CWTPFP.jpg (953, 1300, 3)\n",
      "> loaded B9781416031376500107_gr4 (1).jpg (267, 367, 3)\n",
      "> loaded BCS-4-Virginia-Cooperative-Extension.jpg (312, 387, 3)\n",
      "> loaded BCS-9-Virginia-Cooperative-Extension.jpg (288, 387, 3)\n",
      "> loaded blog_2_-_5.jpg (572, 640, 3)\n"
     ]
    },
    {
     "name": "stderr",
     "output_type": "stream",
     "text": [
      "C:\\Users\\David\\anaconda3\\lib\\site-packages\\PIL\\Image.py:2942: UserWarning: image file could not be identified because WEBP support not installed\n",
      "  warnings.warn(message)\n"
     ]
    },
    {
     "ename": "UnidentifiedImageError",
     "evalue": "cannot identify image file 'C:\\\\Users\\\\David\\\\Documents\\\\GitHub\\\\ST0245-Eafit\\\\proyecto\\\\datasets\\\\imagenes\\\\color\\\\enfermo_test\\\\body-skinny-cow-farm-260nw-1134347561.webp'",
     "output_type": "error",
     "traceback": [
      "\u001b[1;31m---------------------------------------------------------------------------\u001b[0m",
      "\u001b[1;31mUnidentifiedImageError\u001b[0m                    Traceback (most recent call last)",
      "\u001b[1;32m<ipython-input-15-96a6da2bc83e>\u001b[0m in \u001b[0;36m<module>\u001b[1;34m\u001b[0m\n\u001b[0;32m      3\u001b[0m \u001b[0mA\u001b[0m\u001b[1;33m.\u001b[0m\u001b[0mremove\u001b[0m\u001b[1;33m(\u001b[0m\u001b[1;34m\"enfermo\"\u001b[0m\u001b[1;33m)\u001b[0m\u001b[1;33m\u001b[0m\u001b[1;33m\u001b[0m\u001b[0m\n\u001b[0;32m      4\u001b[0m \u001b[0mA\u001b[0m\u001b[1;33m.\u001b[0m\u001b[0mremove\u001b[0m\u001b[1;33m(\u001b[0m\u001b[1;34m\"sano\"\u001b[0m\u001b[1;33m)\u001b[0m\u001b[1;33m\u001b[0m\u001b[1;33m\u001b[0m\u001b[0m\n\u001b[1;32m----> 5\u001b[1;33m \u001b[0mx_test\u001b[0m\u001b[1;33m=\u001b[0m\u001b[0mleer\u001b[0m\u001b[1;33m(\u001b[0m\u001b[0mdir\u001b[0m\u001b[1;33m+\u001b[0m\u001b[1;34m\"\\\\enfermo_test\"\u001b[0m\u001b[1;33m)\u001b[0m\u001b[1;33m\u001b[0m\u001b[1;33m\u001b[0m\u001b[0m\n\u001b[0m\u001b[0;32m      6\u001b[0m \u001b[0mx_train\u001b[0m\u001b[1;33m=\u001b[0m\u001b[0mleer\u001b[0m\u001b[1;33m(\u001b[0m\u001b[0mdir\u001b[0m\u001b[1;33m+\u001b[0m\u001b[1;34m\"\\\\enfermo_train\"\u001b[0m\u001b[1;33m)\u001b[0m\u001b[1;33m\u001b[0m\u001b[1;33m\u001b[0m\u001b[0m\n\u001b[0;32m      7\u001b[0m \u001b[0my_test\u001b[0m\u001b[1;33m=\u001b[0m\u001b[0mleer\u001b[0m\u001b[1;33m(\u001b[0m\u001b[0mdir\u001b[0m\u001b[1;33m+\u001b[0m\u001b[1;34m\"\\\\sano_test\"\u001b[0m\u001b[1;33m)\u001b[0m\u001b[1;33m\u001b[0m\u001b[1;33m\u001b[0m\u001b[0m\n",
      "\u001b[1;32m<ipython-input-14-efc7cb84a90b>\u001b[0m in \u001b[0;36mleer\u001b[1;34m(dir)\u001b[0m\n\u001b[0;32m      2\u001b[0m     \u001b[0mloaded_img\u001b[0m\u001b[1;33m=\u001b[0m\u001b[0mlist\u001b[0m\u001b[1;33m(\u001b[0m\u001b[1;33m)\u001b[0m\u001b[1;33m\u001b[0m\u001b[1;33m\u001b[0m\u001b[0m\n\u001b[0;32m      3\u001b[0m     \u001b[1;32mfor\u001b[0m \u001b[0mfile\u001b[0m \u001b[1;32min\u001b[0m \u001b[0mos\u001b[0m\u001b[1;33m.\u001b[0m\u001b[0mlistdir\u001b[0m\u001b[1;33m(\u001b[0m\u001b[0mdir\u001b[0m\u001b[1;33m)\u001b[0m\u001b[1;33m:\u001b[0m\u001b[1;33m\u001b[0m\u001b[1;33m\u001b[0m\u001b[0m\n\u001b[1;32m----> 4\u001b[1;33m         \u001b[0mimg\u001b[0m\u001b[1;33m=\u001b[0m\u001b[0mimage\u001b[0m\u001b[1;33m.\u001b[0m\u001b[0mimread\u001b[0m\u001b[1;33m(\u001b[0m\u001b[0mdir\u001b[0m\u001b[1;33m+\u001b[0m\u001b[1;34m\"\\\\\"\u001b[0m\u001b[1;33m+\u001b[0m\u001b[0mfile\u001b[0m\u001b[1;33m)\u001b[0m\u001b[1;33m\u001b[0m\u001b[1;33m\u001b[0m\u001b[0m\n\u001b[0m\u001b[0;32m      5\u001b[0m         \u001b[0mloaded_img\u001b[0m\u001b[1;33m.\u001b[0m\u001b[0mappend\u001b[0m\u001b[1;33m(\u001b[0m\u001b[0mimg\u001b[0m\u001b[1;33m)\u001b[0m\u001b[1;33m\u001b[0m\u001b[1;33m\u001b[0m\u001b[0m\n\u001b[0;32m      6\u001b[0m         \u001b[0mprint\u001b[0m\u001b[1;33m(\u001b[0m\u001b[1;34m'> loaded %s %s'\u001b[0m \u001b[1;33m%\u001b[0m \u001b[1;33m(\u001b[0m\u001b[0mfile\u001b[0m\u001b[1;33m,\u001b[0m \u001b[0mimg\u001b[0m\u001b[1;33m.\u001b[0m\u001b[0mshape\u001b[0m\u001b[1;33m)\u001b[0m\u001b[1;33m)\u001b[0m\u001b[1;33m\u001b[0m\u001b[1;33m\u001b[0m\u001b[0m\n",
      "\u001b[1;32m~\\anaconda3\\lib\\site-packages\\matplotlib\\image.py\u001b[0m in \u001b[0;36mimread\u001b[1;34m(fname, format)\u001b[0m\n\u001b[0;32m   1488\u001b[0m                     \u001b[0mresponse\u001b[0m \u001b[1;33m=\u001b[0m \u001b[0mio\u001b[0m\u001b[1;33m.\u001b[0m\u001b[0mBytesIO\u001b[0m\u001b[1;33m(\u001b[0m\u001b[0mresponse\u001b[0m\u001b[1;33m.\u001b[0m\u001b[0mread\u001b[0m\u001b[1;33m(\u001b[0m\u001b[1;33m)\u001b[0m\u001b[1;33m)\u001b[0m\u001b[1;33m\u001b[0m\u001b[1;33m\u001b[0m\u001b[0m\n\u001b[0;32m   1489\u001b[0m                 \u001b[1;32mreturn\u001b[0m \u001b[0mimread\u001b[0m\u001b[1;33m(\u001b[0m\u001b[0mresponse\u001b[0m\u001b[1;33m,\u001b[0m \u001b[0mformat\u001b[0m\u001b[1;33m=\u001b[0m\u001b[0mext\u001b[0m\u001b[1;33m)\u001b[0m\u001b[1;33m\u001b[0m\u001b[1;33m\u001b[0m\u001b[0m\n\u001b[1;32m-> 1490\u001b[1;33m     \u001b[1;32mwith\u001b[0m \u001b[0mimg_open\u001b[0m\u001b[1;33m(\u001b[0m\u001b[0mfname\u001b[0m\u001b[1;33m)\u001b[0m \u001b[1;32mas\u001b[0m \u001b[0mimage\u001b[0m\u001b[1;33m:\u001b[0m\u001b[1;33m\u001b[0m\u001b[1;33m\u001b[0m\u001b[0m\n\u001b[0m\u001b[0;32m   1491\u001b[0m         return (_pil_png_to_float_array(image)\n\u001b[0;32m   1492\u001b[0m                 \u001b[1;32mif\u001b[0m \u001b[0misinstance\u001b[0m\u001b[1;33m(\u001b[0m\u001b[0mimage\u001b[0m\u001b[1;33m,\u001b[0m \u001b[0mPIL\u001b[0m\u001b[1;33m.\u001b[0m\u001b[0mPngImagePlugin\u001b[0m\u001b[1;33m.\u001b[0m\u001b[0mPngImageFile\u001b[0m\u001b[1;33m)\u001b[0m \u001b[1;32melse\u001b[0m\u001b[1;33m\u001b[0m\u001b[1;33m\u001b[0m\u001b[0m\n",
      "\u001b[1;32m~\\anaconda3\\lib\\site-packages\\PIL\\Image.py\u001b[0m in \u001b[0;36mopen\u001b[1;34m(fp, mode, formats)\u001b[0m\n\u001b[0;32m   2941\u001b[0m     \u001b[1;32mfor\u001b[0m \u001b[0mmessage\u001b[0m \u001b[1;32min\u001b[0m \u001b[0maccept_warnings\u001b[0m\u001b[1;33m:\u001b[0m\u001b[1;33m\u001b[0m\u001b[1;33m\u001b[0m\u001b[0m\n\u001b[0;32m   2942\u001b[0m         \u001b[0mwarnings\u001b[0m\u001b[1;33m.\u001b[0m\u001b[0mwarn\u001b[0m\u001b[1;33m(\u001b[0m\u001b[0mmessage\u001b[0m\u001b[1;33m)\u001b[0m\u001b[1;33m\u001b[0m\u001b[1;33m\u001b[0m\u001b[0m\n\u001b[1;32m-> 2943\u001b[1;33m     raise UnidentifiedImageError(\n\u001b[0m\u001b[0;32m   2944\u001b[0m         \u001b[1;34m\"cannot identify image file %r\"\u001b[0m \u001b[1;33m%\u001b[0m \u001b[1;33m(\u001b[0m\u001b[0mfilename\u001b[0m \u001b[1;32mif\u001b[0m \u001b[0mfilename\u001b[0m \u001b[1;32melse\u001b[0m \u001b[0mfp\u001b[0m\u001b[1;33m)\u001b[0m\u001b[1;33m\u001b[0m\u001b[1;33m\u001b[0m\u001b[0m\n\u001b[0;32m   2945\u001b[0m     )\n",
      "\u001b[1;31mUnidentifiedImageError\u001b[0m: cannot identify image file 'C:\\\\Users\\\\David\\\\Documents\\\\GitHub\\\\ST0245-Eafit\\\\proyecto\\\\datasets\\\\imagenes\\\\color\\\\enfermo_test\\\\body-skinny-cow-farm-260nw-1134347561.webp'"
     ]
    }
   ],
   "source": [
    "dir=\"C:\\\\Users\\\\David\\\\Documents\\\\GitHub\\\\ST0245-Eafit\\\\proyecto\\\\datasets\\\\csv\\\\color\"\n",
    "A=os.listdir(dir)\n",
    "A.remove(\"enfermo_csv\")\n",
    "A.remove(\"sano_csv\")\n",
    "x_test=leer(dir+\"\\\\enfermo_test\")\n",
    "x_train=leer(dir+\"\\\\enfermo_train\")\n",
    "y_test=leer(dir+\"\\\\sano_test\")\n",
    "y_train=leer(dir+\"\\\\sano_train\")"
   ]
  },
  {
   "cell_type": "code",
   "execution_count": 29,
   "metadata": {},
   "outputs": [
    {
     "data": {
      "text/plain": [
       "array([[ 73,  73,  72, ...,  39,  39,  39],\n",
       "       [ 71,  71,  71, ...,  38,  38,  39],\n",
       "       [ 69,  69,  69, ...,  37,  37,  37],\n",
       "       ...,\n",
       "       [243, 243, 243, ..., 149, 152, 154],\n",
       "       [243, 243, 243, ..., 150, 157, 163],\n",
       "       [243, 243, 243, ..., 147, 156, 164]], dtype=int64)"
      ]
     },
     "execution_count": 29,
     "metadata": {},
     "output_type": "execute_result"
    }
   ],
   "source": [
    "image=pd.read_csv(\"C:\\\\Users\\\\David\\\\Documents\\\\GitHub\\\\ST0245-Eafit\\\\proyecto\\\\datasets\\\\csv\\\\enfermo_test_csv\\\\0b36076259d99722b2ec4b0cc663b971.csv\",header=None)\n",
    "image=image.to_numpy()\n",
    "image"
   ]
  }
 ],
 "metadata": {
  "kernelspec": {
   "display_name": "Python 3",
   "language": "python",
   "name": "python3"
  },
  "language_info": {
   "codemirror_mode": {
    "name": "ipython",
    "version": 3
   },
   "file_extension": ".py",
   "mimetype": "text/x-python",
   "name": "python",
   "nbconvert_exporter": "python",
   "pygments_lexer": "ipython3",
   "version": "3.8.5"
  }
 },
 "nbformat": 4,
 "nbformat_minor": 4
}
