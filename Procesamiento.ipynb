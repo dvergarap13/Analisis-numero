{
 "cells": [
  {
   "cell_type": "markdown",
   "metadata": {},
   "source": [
    "# Procesamiento de imágenes"
   ]
  },
  {
   "cell_type": "code",
   "execution_count": 93,
   "metadata": {},
   "outputs": [],
   "source": [
    "import numpy as np\n",
    "import pandas as pd\n",
    "import matplotlib.pyplot as plt\n",
    "%matplotlib inline\n",
    "from skimage import io\n",
    "from PIL import Image\n",
    "import os\n",
    "from matplotlib import image\n",
    "import cv2\n",
    "import tensorflow as tf\n",
    "from PIL import Image"
   ]
  },
  {
   "cell_type": "markdown",
   "metadata": {},
   "source": [
    "## Cargar Imágenes"
   ]
  },
  {
   "cell_type": "code",
   "execution_count": 113,
   "metadata": {},
   "outputs": [],
   "source": [
    "def leer(dir):\n",
    "    loaded_img=list()\n",
    "    for file in os.listdir(dir):\n",
    "        img=cv2.imread(dir+\"\\\\\"+file)\n",
    "        loaded_img.append(img)\n",
    "    return loaded_img"
   ]
  },
  {
   "cell_type": "code",
   "execution_count": 114,
   "metadata": {},
   "outputs": [],
   "source": [
    "dir=\"color\"\n",
    "A=os.listdir(dir)\n",
    "x_test=leer(dir+\"\\\\enfermo_test\")\n",
    "x_train=leer(dir+\"\\\\enfermo_train\")\n",
    "y_test=leer(dir+\"\\\\sano_test\")\n",
    "y_train=leer(dir+\"\\\\sano_train\")"
   ]
  },
  {
   "cell_type": "code",
   "execution_count": 115,
   "metadata": {},
   "outputs": [],
   "source": [
    "def borrar(data):\n",
    "    for i in range(len(data)):\n",
    "        if data[i] is None:\n",
    "            x=np.delete(data,i)\n",
    "    return x"
   ]
  },
  {
   "cell_type": "code",
   "execution_count": 118,
   "metadata": {},
   "outputs": [],
   "source": [
    "x_train=borrar(x_train)"
   ]
  },
  {
   "cell_type": "code",
   "execution_count": 119,
   "metadata": {},
   "outputs": [],
   "source": [
    "y_train=borrar(y_train)"
   ]
  },
  {
   "cell_type": "markdown",
   "metadata": {},
   "source": [
    "### Enfermos=0 y sanos=1"
   ]
  },
  {
   "cell_type": "code",
   "execution_count": 120,
   "metadata": {},
   "outputs": [],
   "source": [
    "tamaño=len(x_train)+len(y_train)\n",
    "y1=np.ones(tamaño)\n",
    "y1[0:len(x_train)]=0\n",
    "tamaño2=len(x_test)+len(y_test)\n",
    "y2=np.ones(tamaño2)\n",
    "y2[0:len(x_test)]=0"
   ]
  },
  {
   "cell_type": "code",
   "execution_count": 121,
   "metadata": {},
   "outputs": [],
   "source": [
    "x_train=np.append(x_train,y_train)\n",
    "x_test=np.append(x_test,y_test)\n",
    "y_train=y1\n",
    "y_test=y2"
   ]
  },
  {
   "cell_type": "markdown",
   "metadata": {},
   "source": [
    "## Infraestructura del modelo"
   ]
  },
  {
   "cell_type": "code",
   "execution_count": 124,
   "metadata": {},
   "outputs": [],
   "source": [
    "for i in range(len(x_train)):\n",
    "    x_train[i]=cv2.resize(x_train[i],(256,256))"
   ]
  },
  {
   "cell_type": "code",
   "execution_count": 122,
   "metadata": {},
   "outputs": [],
   "source": [
    "for i in range(len(x_test)):\n",
    "    x_test[i]=cv2.resize(x_test[i],(256,256))"
   ]
  },
  {
   "cell_type": "code",
   "execution_count": null,
   "metadata": {},
   "outputs": [],
   "source": []
  }
 ],
 "metadata": {
  "kernelspec": {
   "display_name": "Python 3",
   "language": "python",
   "name": "python3"
  },
  "language_info": {
   "codemirror_mode": {
    "name": "ipython",
    "version": 3
   },
   "file_extension": ".py",
   "mimetype": "text/x-python",
   "name": "python",
   "nbconvert_exporter": "python",
   "pygments_lexer": "ipython3",
   "version": "3.8.5"
  }
 },
 "nbformat": 4,
 "nbformat_minor": 4
}
