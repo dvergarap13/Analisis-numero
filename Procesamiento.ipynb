{
  "nbformat": 4,
  "nbformat_minor": 0,
  "metadata": {
    "kernelspec": {
      "display_name": "Python 3",
      "language": "python",
      "name": "python3"
    },
    "language_info": {
      "codemirror_mode": {
        "name": "ipython",
        "version": 3
      },
      "file_extension": ".py",
      "mimetype": "text/x-python",
      "name": "python",
      "nbconvert_exporter": "python",
      "pygments_lexer": "ipython3",
      "version": "3.8.5"
    },
    "colab": {
      "name": "Procesamiento.ipynb",
      "provenance": [],
      "collapsed_sections": [],
      "toc_visible": true
    }
  },
  "cells": [
    {
      "cell_type": "markdown",
      "metadata": {
        "id": "nD5XL8zYKho0"
      },
      "source": [
        "# Procesamiento de imágenes"
      ]
    },
    {
      "cell_type": "code",
      "metadata": {
        "id": "pTREQensKho2"
      },
      "source": [
        "import numpy as np\n",
        "import pandas as pd\n",
        "import matplotlib.pyplot as plt\n",
        "from skimage import io\n",
        "from PIL import Image\n",
        "import os\n",
        "from matplotlib import image\n",
        "import cv2\n",
        "import tensorflow as tf\n",
        "from PIL import Image\n",
        "from tensorflow import keras\n",
        "from tensorflow.keras import layers\n",
        "import pathlib\n",
        "np.set_printoptions(precision=3, suppress=True)"
      ],
      "execution_count": null,
      "outputs": []
    },
    {
      "cell_type": "markdown",
      "metadata": {
        "id": "cJpbPZCGKho3"
      },
      "source": [
        "## Cargar Imágenes"
      ]
    },
    {
      "cell_type": "code",
      "metadata": {
        "colab": {
          "base_uri": "https://localhost:8080/"
        },
        "id": "beOuQ1i0Uvft",
        "outputId": "508d14b5-8d6a-4747-eff8-089d2279198e"
      },
      "source": [
        "! git clone https://github.com/dvergarap13/Analisis-numero"
      ],
      "execution_count": null,
      "outputs": [
        {
          "output_type": "stream",
          "text": [
            "Cloning into 'Analisis-numero'...\n",
            "remote: Enumerating objects: 1969, done.\u001b[K\n",
            "remote: Counting objects: 100% (7/7), done.\u001b[K\n",
            "remote: Compressing objects: 100% (5/5), done.\u001b[K\n",
            "remote: Total 1969 (delta 2), reused 7 (delta 2), pack-reused 1962\u001b[K\n",
            "Receiving objects: 100% (1969/1969), 830.30 MiB | 20.93 MiB/s, done.\n",
            "Resolving deltas: 100% (29/29), done.\n"
          ],
          "name": "stdout"
        }
      ]
    },
    {
      "cell_type": "code",
      "metadata": {
        "id": "zRD_TE1mX9dS",
        "colab": {
          "base_uri": "https://localhost:8080/",
          "height": 331
        },
        "outputId": "18ecbe92-3621-4f9a-b674-cbab16aeefe5"
      },
      "source": [
        "train= tf.keras.preprocessing.image_dataset_from_directory(\"train\",image_size=(256, 256))"
      ],
      "execution_count": null,
      "outputs": [
        {
          "output_type": "error",
          "ename": "FileNotFoundError",
          "evalue": "ignored",
          "traceback": [
            "\u001b[0;31m---------------------------------------------------------------------------\u001b[0m",
            "\u001b[0;31mFileNotFoundError\u001b[0m                         Traceback (most recent call last)",
            "\u001b[0;32m<ipython-input-4-aeb7cf129383>\u001b[0m in \u001b[0;36m<module>\u001b[0;34m()\u001b[0m\n\u001b[0;32m----> 1\u001b[0;31m \u001b[0mtrain\u001b[0m\u001b[0;34m=\u001b[0m \u001b[0mtf\u001b[0m\u001b[0;34m.\u001b[0m\u001b[0mkeras\u001b[0m\u001b[0;34m.\u001b[0m\u001b[0mpreprocessing\u001b[0m\u001b[0;34m.\u001b[0m\u001b[0mimage_dataset_from_directory\u001b[0m\u001b[0;34m(\u001b[0m\u001b[0;34m\"train\"\u001b[0m\u001b[0;34m,\u001b[0m\u001b[0mimage_size\u001b[0m\u001b[0;34m=\u001b[0m\u001b[0;34m(\u001b[0m\u001b[0;36m256\u001b[0m\u001b[0;34m,\u001b[0m \u001b[0;36m256\u001b[0m\u001b[0;34m)\u001b[0m\u001b[0;34m)\u001b[0m\u001b[0;34m\u001b[0m\u001b[0;34m\u001b[0m\u001b[0m\n\u001b[0m",
            "\u001b[0;32m/usr/local/lib/python3.7/dist-packages/tensorflow/python/keras/preprocessing/image_dataset.py\u001b[0m in \u001b[0;36mimage_dataset_from_directory\u001b[0;34m(directory, labels, label_mode, class_names, color_mode, batch_size, image_size, shuffle, seed, validation_split, subset, interpolation, follow_links, smart_resize)\u001b[0m\n\u001b[1;32m    188\u001b[0m       \u001b[0mshuffle\u001b[0m\u001b[0;34m=\u001b[0m\u001b[0mshuffle\u001b[0m\u001b[0;34m,\u001b[0m\u001b[0;34m\u001b[0m\u001b[0;34m\u001b[0m\u001b[0m\n\u001b[1;32m    189\u001b[0m       \u001b[0mseed\u001b[0m\u001b[0;34m=\u001b[0m\u001b[0mseed\u001b[0m\u001b[0;34m,\u001b[0m\u001b[0;34m\u001b[0m\u001b[0;34m\u001b[0m\u001b[0m\n\u001b[0;32m--> 190\u001b[0;31m       follow_links=follow_links)\n\u001b[0m\u001b[1;32m    191\u001b[0m \u001b[0;34m\u001b[0m\u001b[0m\n\u001b[1;32m    192\u001b[0m   \u001b[0;32mif\u001b[0m \u001b[0mlabel_mode\u001b[0m \u001b[0;34m==\u001b[0m \u001b[0;34m'binary'\u001b[0m \u001b[0;32mand\u001b[0m \u001b[0mlen\u001b[0m\u001b[0;34m(\u001b[0m\u001b[0mclass_names\u001b[0m\u001b[0;34m)\u001b[0m \u001b[0;34m!=\u001b[0m \u001b[0;36m2\u001b[0m\u001b[0;34m:\u001b[0m\u001b[0;34m\u001b[0m\u001b[0;34m\u001b[0m\u001b[0m\n",
            "\u001b[0;32m/usr/local/lib/python3.7/dist-packages/tensorflow/python/keras/preprocessing/dataset_utils.py\u001b[0m in \u001b[0;36mindex_directory\u001b[0;34m(directory, labels, formats, class_names, shuffle, seed, follow_links)\u001b[0m\n\u001b[1;32m     66\u001b[0m   \u001b[0;32melse\u001b[0m\u001b[0;34m:\u001b[0m\u001b[0;34m\u001b[0m\u001b[0;34m\u001b[0m\u001b[0m\n\u001b[1;32m     67\u001b[0m     \u001b[0msubdirs\u001b[0m \u001b[0;34m=\u001b[0m \u001b[0;34m[\u001b[0m\u001b[0;34m]\u001b[0m\u001b[0;34m\u001b[0m\u001b[0;34m\u001b[0m\u001b[0m\n\u001b[0;32m---> 68\u001b[0;31m     \u001b[0;32mfor\u001b[0m \u001b[0msubdir\u001b[0m \u001b[0;32min\u001b[0m \u001b[0msorted\u001b[0m\u001b[0;34m(\u001b[0m\u001b[0mos\u001b[0m\u001b[0;34m.\u001b[0m\u001b[0mlistdir\u001b[0m\u001b[0;34m(\u001b[0m\u001b[0mdirectory\u001b[0m\u001b[0;34m)\u001b[0m\u001b[0;34m)\u001b[0m\u001b[0;34m:\u001b[0m\u001b[0;34m\u001b[0m\u001b[0;34m\u001b[0m\u001b[0m\n\u001b[0m\u001b[1;32m     69\u001b[0m       \u001b[0;32mif\u001b[0m \u001b[0mos\u001b[0m\u001b[0;34m.\u001b[0m\u001b[0mpath\u001b[0m\u001b[0;34m.\u001b[0m\u001b[0misdir\u001b[0m\u001b[0;34m(\u001b[0m\u001b[0mos\u001b[0m\u001b[0;34m.\u001b[0m\u001b[0mpath\u001b[0m\u001b[0;34m.\u001b[0m\u001b[0mjoin\u001b[0m\u001b[0;34m(\u001b[0m\u001b[0mdirectory\u001b[0m\u001b[0;34m,\u001b[0m \u001b[0msubdir\u001b[0m\u001b[0;34m)\u001b[0m\u001b[0;34m)\u001b[0m\u001b[0;34m:\u001b[0m\u001b[0;34m\u001b[0m\u001b[0;34m\u001b[0m\u001b[0m\n\u001b[1;32m     70\u001b[0m         \u001b[0msubdirs\u001b[0m\u001b[0;34m.\u001b[0m\u001b[0mappend\u001b[0m\u001b[0;34m(\u001b[0m\u001b[0msubdir\u001b[0m\u001b[0;34m)\u001b[0m\u001b[0;34m\u001b[0m\u001b[0;34m\u001b[0m\u001b[0m\n",
            "\u001b[0;31mFileNotFoundError\u001b[0m: [Errno 2] No such file or directory: 'train'"
          ]
        }
      ]
    },
    {
      "cell_type": "code",
      "metadata": {
        "colab": {
          "base_uri": "https://localhost:8080/"
        },
        "id": "gQthUY80YiJs",
        "outputId": "1488b777-beac-423d-e081-61100461d8c1"
      },
      "source": [
        "test=tf.keras.preprocessing.image_dataset_from_directory(\"test\",image_size=(256, 256))"
      ],
      "execution_count": null,
      "outputs": [
        {
          "output_type": "stream",
          "text": [
            "Found 310 files belonging to 2 classes.\n"
          ],
          "name": "stdout"
        }
      ]
    },
    {
      "cell_type": "code",
      "metadata": {
        "id": "pWmav5_sahyC",
        "colab": {
          "base_uri": "https://localhost:8080/",
          "height": 180
        },
        "outputId": "2c027014-00f7-4dfe-8157-cd159d345236"
      },
      "source": [
        "clases=train.class_names\n",
        "clases"
      ],
      "execution_count": null,
      "outputs": [
        {
          "output_type": "error",
          "ename": "AttributeError",
          "evalue": "ignored",
          "traceback": [
            "\u001b[0;31m---------------------------------------------------------------------------\u001b[0m",
            "\u001b[0;31mAttributeError\u001b[0m                            Traceback (most recent call last)",
            "\u001b[0;32m<ipython-input-73-678e40e56028>\u001b[0m in \u001b[0;36m<module>\u001b[0;34m()\u001b[0m\n\u001b[0;32m----> 1\u001b[0;31m \u001b[0mclases\u001b[0m\u001b[0;34m=\u001b[0m\u001b[0mtrain\u001b[0m\u001b[0;34m.\u001b[0m\u001b[0mclass_names\u001b[0m\u001b[0;34m\u001b[0m\u001b[0;34m\u001b[0m\u001b[0m\n\u001b[0m\u001b[1;32m      2\u001b[0m \u001b[0mclases\u001b[0m\u001b[0;34m\u001b[0m\u001b[0;34m\u001b[0m\u001b[0m\n",
            "\u001b[0;31mAttributeError\u001b[0m: 'PrefetchDataset' object has no attribute 'class_names'"
          ]
        }
      ]
    },
    {
      "cell_type": "code",
      "metadata": {
        "id": "u0-VRQRzabm8"
      },
      "source": [
        "AUTOTUNE = tf.data.AUTOTUNE\n",
        "train = train.cache().prefetch(buffer_size=AUTOTUNE)\n",
        "test = test.cache().prefetch(buffer_size=AUTOTUNE)"
      ],
      "execution_count": null,
      "outputs": []
    },
    {
      "cell_type": "code",
      "metadata": {
        "id": "GCPZ_nKsKho7"
      },
      "source": [
        "model = tf.keras.models.Sequential([\n",
        "    layers.experimental.preprocessing.Rescaling(1./255),\n",
        "    layers.Conv2D(32, 3, padding='same', activation='relu'),\n",
        "    layers.MaxPooling2D(),\n",
        "    layers.Conv2D(32, 3, padding='same', activation='relu'),\n",
        "    layers.MaxPooling2D(),\n",
        "    layers.Conv2D(32, 3, padding='same', activation='relu'),\n",
        "    layers.MaxPooling2D(),\n",
        "    layers.Flatten(),\n",
        "    layers.Dense(128, activation='relu'),\n",
        "    layers.Dense(1,activation=\"sigmoid\")\n",
        "])\n"
      ],
      "execution_count": null,
      "outputs": []
    },
    {
      "cell_type": "code",
      "metadata": {
        "id": "DVVmQe9IwIA4"
      },
      "source": [
        "model.compile(optimizer=\"adam\",\n",
        "              loss=tf.keras.losses.binary_crossentropy,\n",
        "              metrics=['accuracy'])"
      ],
      "execution_count": null,
      "outputs": []
    },
    {
      "cell_type": "code",
      "metadata": {
        "id": "q13dRgNwwMRf",
        "colab": {
          "base_uri": "https://localhost:8080/"
        },
        "outputId": "912bb028-6c20-411e-8830-ec75acb129da"
      },
      "source": [
        "modelo=model.fit(\n",
        "  train,\n",
        "  validation_data=test,\n",
        "  epochs=10\n",
        ")"
      ],
      "execution_count": null,
      "outputs": [
        {
          "output_type": "stream",
          "text": [
            "Epoch 1/10\n",
            "23/23 [==============================] - 71s 3s/step - loss: 0.8963 - accuracy: 0.5504 - val_loss: 0.6161 - val_accuracy: 0.6516\n",
            "Epoch 2/10\n",
            "23/23 [==============================] - 61s 3s/step - loss: 0.5653 - accuracy: 0.7157 - val_loss: 0.5800 - val_accuracy: 0.7194\n",
            "Epoch 3/10\n",
            "23/23 [==============================] - 61s 3s/step - loss: 0.4724 - accuracy: 0.7927 - val_loss: 0.5293 - val_accuracy: 0.7581\n",
            "Epoch 4/10\n",
            "23/23 [==============================] - 61s 3s/step - loss: 0.4200 - accuracy: 0.8109 - val_loss: 0.5047 - val_accuracy: 0.7806\n",
            "Epoch 5/10\n",
            "23/23 [==============================] - 61s 3s/step - loss: 0.3715 - accuracy: 0.8529 - val_loss: 0.4918 - val_accuracy: 0.7774\n",
            "Epoch 6/10\n",
            "23/23 [==============================] - 61s 3s/step - loss: 0.2771 - accuracy: 0.8978 - val_loss: 0.5107 - val_accuracy: 0.7677\n",
            "Epoch 7/10\n",
            "23/23 [==============================] - 62s 3s/step - loss: 0.1986 - accuracy: 0.9258 - val_loss: 0.5141 - val_accuracy: 0.8097\n",
            "Epoch 8/10\n",
            "23/23 [==============================] - 62s 3s/step - loss: 0.1907 - accuracy: 0.9300 - val_loss: 0.6764 - val_accuracy: 0.7548\n",
            "Epoch 9/10\n",
            "23/23 [==============================] - 61s 3s/step - loss: 0.1239 - accuracy: 0.9566 - val_loss: 0.8645 - val_accuracy: 0.7871\n",
            "Epoch 10/10\n",
            "23/23 [==============================] - 62s 3s/step - loss: 0.1282 - accuracy: 0.9594 - val_loss: 0.8241 - val_accuracy: 0.7710\n"
          ],
          "name": "stdout"
        }
      ]
    },
    {
      "cell_type": "code",
      "metadata": {
        "id": "xihHdnXRwRZF",
        "colab": {
          "base_uri": "https://localhost:8080/",
          "height": 499
        },
        "outputId": "3218efc8-e65c-4729-93a0-01d764fb8252"
      },
      "source": [
        "acc = modelo.history['accuracy']\n",
        "val_acc = modelo.history['val_accuracy']\n",
        "\n",
        "loss = modelo.history['loss']\n",
        "val_loss = modelo.history['val_loss']\n",
        "\n",
        "epochs_range = range(10)\n",
        "\n",
        "plt.figure(figsize=(8, 8))\n",
        "plt.subplot(1, 2, 1)\n",
        "plt.plot(epochs_range, acc, label='Training Accuracy')\n",
        "plt.plot(epochs_range, val_acc, label='Validation Accuracy')\n",
        "plt.legend(loc='lower right')\n",
        "plt.title('Training and Validation Accuracy')\n",
        "\n",
        "plt.subplot(1, 2, 2)\n",
        "plt.plot(epochs_range, loss, label='Training Loss')\n",
        "plt.plot(epochs_range, val_loss, label='Validation Loss')\n",
        "plt.legend(loc='upper right')\n",
        "plt.title('Training and Validation Loss')\n",
        "plt.show()"
      ],
      "execution_count": null,
      "outputs": [
        {
          "output_type": "display_data",
          "data": {
            "image/png": "[encoded data removed]",
            "text/plain": [
              "<Figure size 576x576 with 2 Axes>"
            ]
          },
          "metadata": {
            "tags": [],
            "needs_background": "light"
          }
        }
      ]
    },
    {
      "cell_type": "code",
      "metadata": {
        "colab": {
          "base_uri": "https://localhost:8080/"
        },
        "id": "Em1mT66wFsxT",
        "outputId": "4e8a254e-4485-4536-ec02-f39f614ee0f3"
      },
      "source": [
        "tf.math.confusion_matrix()"
      ],
      "execution_count": null,
      "outputs": [
        {
          "output_type": "execute_result",
          "data": {
            "text/plain": [
              "(0.7577419281005859, 0.8392156720161438)"
            ]
          },
          "metadata": {
            "tags": []
          },
          "execution_count": 14
        }
      ]
    },
    {
      "cell_type": "code",
      "metadata": {
        "id": "xVnTQEs8_e0I"
      },
      "source": [
        "data_augmentation = keras.Sequential(\n",
        "  [\n",
        "    layers.experimental.preprocessing.RandomFlip(\"horizontal\", \n",
        "                                                 input_shape=(256, \n",
        "                                                              256,\n",
        "                                                              3)),\n",
        "    layers.experimental.preprocessing.RandomRotation(0.1),\n",
        "    layers.experimental.preprocessing.RandomZoom(0.1),\n",
        "  ]\n",
        ")"
      ],
      "execution_count": null,
      "outputs": []
    },
    {
      "cell_type": "code",
      "metadata": {
        "id": "RYxy9v2WhQ_w"
      },
      "source": [
        "model = tf.keras.models.Sequential([\n",
        "    data_augmentation,                               \n",
        "    layers.experimental.preprocessing.Rescaling(1./255),\n",
        "    layers.Conv2D(32, 3, padding='same', activation='relu'),\n",
        "    layers.MaxPooling2D(),\n",
        "    layers.Conv2D(32, 3, padding='same', activation='relu'),\n",
        "    layers.MaxPooling2D(),\n",
        "    layers.Conv2D(32, 3, padding='same', activation='relu'),\n",
        "    layers.MaxPooling2D(),\n",
        "    layers.Flatten(),\n",
        "    layers.Dense(128, activation='relu'),\n",
        "    layers.Dense(1,activation=\"sigmoid\")\n",
        "])"
      ],
      "execution_count": null,
      "outputs": []
    },
    {
      "cell_type": "code",
      "metadata": {
        "id": "xqrzjBIuhlrg"
      },
      "source": [
        "model.compile(optimizer=\"adam\",\n",
        "              loss=tf.keras.losses.binary_crossentropy,\n",
        "              metrics=['accuracy'])"
      ],
      "execution_count": null,
      "outputs": []
    },
    {
      "cell_type": "code",
      "metadata": {
        "colab": {
          "base_uri": "https://localhost:8080/"
        },
        "id": "PaM-j1bchmjQ",
        "outputId": "3b755155-70da-4fe0-b60a-198af35fe1b9"
      },
      "source": [
        "modelo=model.fit(\n",
        "  train,\n",
        "  validation_data=test,\n",
        "  epochs=15\n",
        ")"
      ],
      "execution_count": null,
      "outputs": [
        {
          "output_type": "stream",
          "text": [
            "Epoch 1/15\n",
            "23/23 [==============================] - 68s 3s/step - loss: 0.8887 - accuracy: 0.5714 - val_loss: 0.5958 - val_accuracy: 0.7484\n",
            "Epoch 2/15\n",
            "23/23 [==============================] - 67s 3s/step - loss: 0.5610 - accuracy: 0.7255 - val_loss: 0.5324 - val_accuracy: 0.7806\n",
            "Epoch 3/15\n",
            "23/23 [==============================] - 67s 3s/step - loss: 0.5287 - accuracy: 0.7563 - val_loss: 0.5138 - val_accuracy: 0.7710\n",
            "Epoch 4/15\n",
            "23/23 [==============================] - 68s 3s/step - loss: 0.4810 - accuracy: 0.7815 - val_loss: 0.6733 - val_accuracy: 0.6581\n",
            "Epoch 5/15\n",
            "23/23 [==============================] - 67s 3s/step - loss: 0.4942 - accuracy: 0.7507 - val_loss: 0.4555 - val_accuracy: 0.8097\n",
            "Epoch 6/15\n",
            "23/23 [==============================] - 66s 3s/step - loss: 0.4684 - accuracy: 0.7801 - val_loss: 0.4805 - val_accuracy: 0.8161\n",
            "Epoch 7/15\n",
            "23/23 [==============================] - 67s 3s/step - loss: 0.4686 - accuracy: 0.7983 - val_loss: 0.4695 - val_accuracy: 0.8032\n",
            "Epoch 8/15\n",
            "23/23 [==============================] - 67s 3s/step - loss: 0.4607 - accuracy: 0.7941 - val_loss: 0.4556 - val_accuracy: 0.8161\n",
            "Epoch 9/15\n",
            "23/23 [==============================] - 67s 3s/step - loss: 0.4369 - accuracy: 0.7913 - val_loss: 0.4401 - val_accuracy: 0.8161\n",
            "Epoch 10/15\n",
            "23/23 [==============================] - 67s 3s/step - loss: 0.4040 - accuracy: 0.8207 - val_loss: 0.4753 - val_accuracy: 0.7903\n",
            "Epoch 11/15\n",
            "23/23 [==============================] - 67s 3s/step - loss: 0.3975 - accuracy: 0.8151 - val_loss: 0.4738 - val_accuracy: 0.8000\n",
            "Epoch 12/15\n",
            "23/23 [==============================] - 67s 3s/step - loss: 0.4263 - accuracy: 0.8067 - val_loss: 0.4369 - val_accuracy: 0.8129\n",
            "Epoch 13/15\n",
            "23/23 [==============================] - 67s 3s/step - loss: 0.3843 - accuracy: 0.8277 - val_loss: 0.4482 - val_accuracy: 0.8097\n",
            "Epoch 14/15\n",
            "23/23 [==============================] - 67s 3s/step - loss: 0.3933 - accuracy: 0.8221 - val_loss: 0.5016 - val_accuracy: 0.8161\n",
            "Epoch 15/15\n",
            "23/23 [==============================] - 67s 3s/step - loss: 0.3891 - accuracy: 0.8249 - val_loss: 0.4840 - val_accuracy: 0.8065\n"
          ],
          "name": "stdout"
        }
      ]
    },
    {
      "cell_type": "code",
      "metadata": {
        "colab": {
          "base_uri": "https://localhost:8080/",
          "height": 499
        },
        "id": "QFBESZlHl3Es",
        "outputId": "db70cdb2-278f-4880-d222-87efebdaa351"
      },
      "source": [
        "acc = modelo.history['accuracy']\n",
        "val_acc = modelo.history['val_accuracy']\n",
        "\n",
        "loss = modelo.history['loss']\n",
        "val_loss = modelo.history['val_loss']\n",
        "\n",
        "epochs_range = range(15)\n",
        "\n",
        "plt.figure(figsize=(8, 8))\n",
        "plt.subplot(1, 2, 1)\n",
        "plt.plot(epochs_range, acc, label='Training Accuracy')\n",
        "plt.plot(epochs_range, val_acc, label='Validation Accuracy')\n",
        "plt.legend(loc='lower right')\n",
        "plt.title('Training and Validation Accuracy')\n",
        "\n",
        "plt.subplot(1, 2, 2)\n",
        "plt.plot(epochs_range, loss, label='Training Loss')\n",
        "plt.plot(epochs_range, val_loss, label='Validation Loss')\n",
        "plt.legend(loc='upper right')\n",
        "plt.title('Training and Validation Loss')\n",
        "plt.show()"
      ],
      "execution_count": null,
      "outputs": [
        {
          "output_type": "display_data",
          "data": {
            "image/png": "[encoded data removed]",
            "text/plain": [
              "<Figure size 576x576 with 2 Axes>"
            ]
          },
          "metadata": {
            "tags": [],
            "needs_background": "light"
          }
        }
      ]
    },
    {
      "cell_type": "code",
      "metadata": {
        "colab": {
          "base_uri": "https://localhost:8080/"
        },
        "id": "wTLt3B0QNAdj",
        "outputId": "ab03cdab-8aa6-4626-dd1e-f4ebdf4e5b08"
      },
      "source": [
        "np.mean(acc),np.mean(val_acc)"
      ],
      "execution_count": null,
      "outputs": [
        {
          "output_type": "execute_result",
          "data": {
            "text/plain": [
              "(0.7777777791023255, 0.7903225819269816)"
            ]
          },
          "metadata": {
            "tags": []
          },
          "execution_count": 21
        }
      ]
    },
    {
      "cell_type": "code",
      "metadata": {
        "colab": {
          "base_uri": "https://localhost:8080/"
        },
        "id": "ctUpNbaSNUSn",
        "outputId": "5b53b15e-985b-4adf-bdec-a6328b19d725"
      },
      "source": [
        "for i,j in test:\n",
        "  print(j)"
      ],
      "execution_count": null,
      "outputs": [
        {
          "output_type": "stream",
          "text": [
            "tf.Tensor([0 1 0 0 1 0 1 1 0 0 1 0 1 1 0 0 0 0 0 0 1 1 1 1 0 0 0 0 0 0 0 1], shape=(32,), dtype=int32)\n",
            "tf.Tensor([0 0 0 0 1 1 1 0 1 1 0 1 0 1 0 1 1 0 1 0 0 0 0 0 0 1 1 1 1 1 0 1], shape=(32,), dtype=int32)\n",
            "tf.Tensor([0 0 0 0 1 1 0 0 0 0 1 0 0 0 0 0 1 0 1 0 1 0 0 0 0 0 0 1 0 0 0 0], shape=(32,), dtype=int32)\n",
            "tf.Tensor([1 0 1 1 1 0 0 0 1 0 1 0 0 1 0 0 0 1 1 0 1 0 1 1 1 0 1 1 0 0 0 0], shape=(32,), dtype=int32)\n",
            "tf.Tensor([0 0 0 0 0 0 0 1 1 0 0 0 0 1 0 1 0 0 0 0 0 0 1 0 0 0 1 0 0 0 1 1], shape=(32,), dtype=int32)\n",
            "tf.Tensor([0 0 0 1 0 0 0 0 0 0 0 1 0 1 0 1 0 0 1 0 0 0 0 0 0 1 0 0 1 0 0 0], shape=(32,), dtype=int32)\n",
            "tf.Tensor([0 0 0 1 0 0 1 0 0 0 0 1 0 0 0 1 1 1 0 0 1 0 1 0 0 1 0 1 0 0 0 0], shape=(32,), dtype=int32)\n",
            "tf.Tensor([0 0 1 1 0 0 0 1 1 0 0 0 1 1 0 0 0 0 0 0 0 0 1 0 1 1 1 1 1 1 1 0], shape=(32,), dtype=int32)\n",
            "tf.Tensor([1 1 1 0 1 0 1 1 1 0 0 0 0 1 1 0 0 1 0 0 0 1 0 0 0 0 0 0 0 1 1 1], shape=(32,), dtype=int32)\n",
            "tf.Tensor([1 1 1 1 1 0 1 1 1 0 0 0 0 0 0 1 1 0 1 0 0 0], shape=(22,), dtype=int32)\n"
          ],
          "name": "stdout"
        }
      ]
    },
    {
      "cell_type": "code",
      "metadata": {
        "id": "9ebc6O5ROxLx"
      },
      "source": [
        "pred=np.round(predictions).astype(np.int32)\n",
        "pred=tf.convert_to_tensor(pred)"
      ],
      "execution_count": null,
      "outputs": []
    },
    {
      "cell_type": "code",
      "metadata": {
        "id": "WXRklGDJRsIN"
      },
      "source": [
        "y=[]\n",
        "for i,j in test.as_numpy_iterator():\n",
        "  for a in j:\n",
        "    y.append(a)"
      ],
      "execution_count": null,
      "outputs": []
    },
    {
      "cell_type": "code",
      "metadata": {
        "colab": {
          "base_uri": "https://localhost:8080/"
        },
        "id": "VS31OjCoT3Zy",
        "outputId": "78c5f82c-9801-4525-fad5-a570ec836fb9"
      },
      "source": [
        "y=np.array(y)\n",
        "y=tf.convert_to_tensor(y)"
      ],
      "execution_count": null,
      "outputs": [
        {
          "output_type": "execute_result",
          "data": {
            "text/plain": [
              "310"
            ]
          },
          "metadata": {
            "tags": []
          },
          "execution_count": 68
        }
      ]
    },
    {
      "cell_type": "code",
      "metadata": {
        "colab": {
          "base_uri": "https://localhost:8080/"
        },
        "id": "94LBkXHLUbMD",
        "outputId": "b8303622-b644-48f1-96c8-1a3bbaf425fc"
      },
      "source": [
        "matriz=tf.math.confusion_matrix(y,pred)\n",
        "matriz=np.array(matriz)\n",
        "matriz"
      ],
      "execution_count": null,
      "outputs": [
        {
          "output_type": "execute_result",
          "data": {
            "text/plain": [
              "array([[177,  19],\n",
              "       [ 41,  73]], dtype=int32)"
            ]
          },
          "metadata": {
            "tags": []
          },
          "execution_count": 91
        }
      ]
    },
    {
      "cell_type": "code",
      "metadata": {
        "id": "-Rm7fFJrXHus"
      },
      "source": [
        "clases=[\"enfermo\",\"sano\"]"
      ],
      "execution_count": null,
      "outputs": []
    },
    {
      "cell_type": "code",
      "metadata": {
        "colab": {
          "base_uri": "https://localhost:8080/",
          "height": 559
        },
        "id": "8zwEVsH6WG5-",
        "outputId": "53713330-9dad-4e43-f5a9-bb39f3559233"
      },
      "source": [
        "plt.clf()\n",
        "plt.figure(figsize=(12,8))\n",
        "plt.imshow(matriz)\n",
        "classNames = ['Negative','Positive']\n",
        "plt.title('Versicolor or Not Versicolor Confusion Matrix - Test Data')\n",
        "plt.ylabel('True label')\n",
        "plt.xlabel('Predicted label')\n",
        "tick_marks = np.arange(len(classNames))\n",
        "plt.xticks(tick_marks, classNames, rotation=45)\n",
        "plt.yticks(tick_marks, classNames)\n",
        "s = [['TN','FP'], ['FN', 'TP']]\n",
        "for i in range(2):\n",
        "    for j in range(2):\n",
        "        plt.text(j,i, str(matriz[i][j]),fontsize=25)\n",
        "plt.show()\n"
      ],
      "execution_count": null,
      "outputs": [
        {
          "output_type": "display_data",
          "data": {
            "text/plain": [
              "<Figure size 432x288 with 0 Axes>"
            ]
          },
          "metadata": {
            "tags": []
          }
        },
        {
          "output_type": "display_data",
          "data": {
            "image/png": "[encoded data removed]",
            "text/plain": [
              "<Figure size 864x576 with 1 Axes>"
            ]
          },
          "metadata": {
            "tags": [],
            "needs_background": "light"
          }
        }
      ]
    },
    {
      "cell_type": "code",
      "metadata": {
        "id": "ZcaRvLYPwZEN",
        "colab": {
          "base_uri": "https://localhost:8080/"
        },
        "outputId": "8da8740b-f706-4c31-c5b1-09920b764e26"
      },
      "source": [
        "predictions = model.predict(test)\n",
        "score = tf.nn.softmax(predictions[0])\n",
        "\n",
        "print(\n",
        "    \"This image most likely belongs to {} with a {:.2f} percent confidence.\"\n",
        "    .format(clases[np.argmax(score)], 100 * np.max(score))\n",
        ")"
      ],
      "execution_count": null,
      "outputs": [
        {
          "output_type": "stream",
          "text": [
            "This image most likely belongs to enfermo_train with a 100.00 percent confidence.\n"
          ],
          "name": "stdout"
        }
      ]
    }
  ]
}