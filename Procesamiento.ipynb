{
 "cells": [
  {
   "cell_type": "markdown",
   "metadata": {},
   "source": [
    "# Procesamiento de imágenes"
   ]
  },
  {
   "cell_type": "code",
   "execution_count": 25,
   "metadata": {},
   "outputs": [],
   "source": [
    "import numpy as np\n",
    "import pandas as pd\n",
    "import matplotlib.pyplot as plt\n",
    "%matplotlib inline\n",
    "from skimage import io\n",
    "from PIL import Image\n",
    "import os\n",
    "from matplotlib import image\n",
    "import cv2\n",
    "import tensorflow as tf"
   ]
  },
  {
   "cell_type": "markdown",
   "metadata": {},
   "source": [
    "## Cargar Imágenes"
   ]
  },
  {
   "cell_type": "code",
   "execution_count": 26,
   "metadata": {},
   "outputs": [],
   "source": [
    "def leer(dir):\n",
    "    loaded_img=list()\n",
    "    for file in os.listdir(dir):\n",
    "        img=pd.read_csv(dir+\"\\\\\"+file,header=None)\n",
    "        img=img.to_numpy()\n",
    "        loaded_img.append(img)\n",
    "    return loaded_img"
   ]
  },
  {
   "cell_type": "code",
   "execution_count": 33,
   "metadata": {},
   "outputs": [],
   "source": [
    "dir=\"csv\"\n",
    "A=os.listdir(dir)\n",
    "A.remove(\"enfermo_csv\")\n",
    "A.remove(\"sano_csv\")\n",
    "x_test=leer(dir+\"\\\\enfermo_test_csv\")\n",
    "x_train=leer(dir+\"\\\\enfermo_train_csv\")\n",
    "y_test=leer(dir+\"\\\\sano_test_csv\")\n",
    "y_train=leer(dir+\"\\\\sano_train_csv\")"
   ]
  },
  {
   "cell_type": "code",
   "execution_count": 65,
   "metadata": {},
   "outputs": [],
   "source": [
    "tamaño=len(x_train)+len(y_train)\n",
    "y1=np.ones(tamaño)\n",
    "y1[0:len(x_train)]=0\n",
    "tamaño2=len(x_test)+len(y_test)\n",
    "y2=np.ones(tamaño2)\n",
    "y2[0:len(x_test)]=0"
   ]
  },
  {
   "cell_type": "code",
   "execution_count": 70,
   "metadata": {},
   "outputs": [],
   "source": [
    "x_train=np.append(x_train,y_train)\n",
    "x_test=np.append(x_test,y_test)\n",
    "y_train=y1\n",
    "y_test=y2\n"
   ]
  },
  {
   "cell_type": "markdown",
   "metadata": {},
   "source": [
    "### Enfermos=0 y sanos=1"
   ]
  },
  {
   "cell_type": "code",
   "execution_count": null,
   "metadata": {},
   "outputs": [],
   "source": []
  }
 ],
 "metadata": {
  "kernelspec": {
   "display_name": "Python 3",
   "language": "python",
   "name": "python3"
  },
  "language_info": {
   "codemirror_mode": {
    "name": "ipython",
    "version": 3
   },
   "file_extension": ".py",
   "mimetype": "text/x-python",
   "name": "python",
   "nbconvert_exporter": "python",
   "pygments_lexer": "ipython3",
   "version": "3.8.5"
  }
 },
 "nbformat": 4,
 "nbformat_minor": 4
}
